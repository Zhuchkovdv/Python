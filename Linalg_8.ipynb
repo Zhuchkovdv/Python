{
  "nbformat": 4,
  "nbformat_minor": 0,
  "metadata": {
    "colab": {
      "name": "Linalg_8.ipynb",
      "provenance": [],
      "collapsed_sections": [],
      "mount_file_id": "1ynpjTK8GudWNPoEN9cEhTZ6PUHaCYVqX",
      "authorship_tag": "ABX9TyPVf7jHuXRVrf6L6v9i43K6",
      "include_colab_link": true
    },
    "kernelspec": {
      "name": "python3",
      "display_name": "Python 3"
    },
    "language_info": {
      "name": "python"
    }
  },
  "cells": [
    {
      "cell_type": "markdown",
      "metadata": {
        "id": "view-in-github",
        "colab_type": "text"
      },
      "source": [
        "<a href=\"https://colab.research.google.com/github/Zhuchkovdv/Python/blob/main/Linalg_8.ipynb\" target=\"_parent\"><img src=\"https://colab.research.google.com/assets/colab-badge.svg\" alt=\"Open In Colab\"/></a>"
      ]
    },
    {
      "cell_type": "markdown",
      "metadata": {
        "id": "jUAENax9rsce"
      },
      "source": [
        "Жучков Дмитрий DS_med_1530"
      ]
    },
    {
      "cell_type": "code",
      "metadata": {
        "id": "FSy2z31tpGR_"
      },
      "source": [
        "import math\n",
        "import numpy as np\n",
        "from numpy.linalg import norm\n",
        "import scipy.linalg\n",
        "np.set_printoptions(precision=2, suppress=True)"
      ],
      "execution_count": null,
      "outputs": []
    },
    {
      "cell_type": "markdown",
      "metadata": {
        "id": "hNXABRxT5PRX"
      },
      "source": [
        "# 1. Найти с помощью NumPy SVD для матрицы:\n",
        "\n",
        "$$\\begin{pmatrix}\n",
        "1 & 2 & 0\\\\ \n",
        "0 & 0 & 5\\\\ \n",
        "3 & -4 & 2\\\\ \n",
        "1 & 6 & 5\\\\ \n",
        "0 & 1 & 0\n",
        "\\end{pmatrix}$$\n"
      ]
    },
    {
      "cell_type": "code",
      "metadata": {
        "colab": {
          "base_uri": "https://localhost:8080/"
        },
        "id": "fS2HHJ0Kngf3",
        "outputId": "1e7c42e7-2fba-4333-b345-a0b33e31c9bc"
      },
      "source": [
        "x = [1, 2, 0]\n",
        "y = [0, 0, 5]\n",
        "z = [3, -4, 2]\n",
        "w = [1, 6, 5]\n",
        "u = [0, 1, 0]\n",
        "\n",
        "A = np.array([x, y, z, w, u])\n",
        "print(f'Матрица:\\n{A}')"
      ],
      "execution_count": null,
      "outputs": [
        {
          "output_type": "stream",
          "name": "stdout",
          "text": [
            "Матрица:\n",
            "[[ 1  2  0]\n",
            " [ 0  0  5]\n",
            " [ 3 -4  2]\n",
            " [ 1  6  5]\n",
            " [ 0  1  0]]\n"
          ]
        }
      ]
    },
    {
      "cell_type": "code",
      "metadata": {
        "id": "jDJ4H2olCzpS"
      },
      "source": [
        "U, s, W = np.linalg.svd(A)\n",
        "\n",
        "# Транспонируем матрицу W\n",
        "V = W.T\n",
        "\n",
        "# s - список диагональных элементов, его нужно привести к виду диагональной матрицы для наглядности\n",
        "D = np.zeros_like(A, dtype=float)\n",
        "D[np.diag_indices(min(A.shape))] = s"
      ],
      "execution_count": null,
      "outputs": []
    },
    {
      "cell_type": "code",
      "metadata": {
        "colab": {
          "base_uri": "https://localhost:8080/"
        },
        "id": "-9XnWcfTjvlM",
        "outputId": "031509d5-607d-43df-d48d-ca35db795461"
      },
      "source": [
        "print(f'Матрица D:\\n{D}')"
      ],
      "execution_count": null,
      "outputs": [
        {
          "output_type": "stream",
          "name": "stdout",
          "text": [
            "Матрица D:\n",
            "[[8.82 0.   0.  ]\n",
            " [0.   6.14 0.  ]\n",
            " [0.   0.   2.53]\n",
            " [0.   0.   0.  ]\n",
            " [0.   0.   0.  ]]\n"
          ]
        }
      ]
    },
    {
      "cell_type": "code",
      "metadata": {
        "id": "SFK1AXYSCzpe",
        "colab": {
          "base_uri": "https://localhost:8080/"
        },
        "outputId": "60fcd85e-d655-4f3f-f862-5dfad0aed4bf"
      },
      "source": [
        "print(f'Матрица U:\\n{U}')"
      ],
      "execution_count": null,
      "outputs": [
        {
          "output_type": "stream",
          "name": "stdout",
          "text": [
            "Матрица U:\n",
            "[[ 0.17  0.16 -0.53 -0.8  -0.16]\n",
            " [ 0.39 -0.53  0.61 -0.43  0.03]\n",
            " [-0.14 -0.82 -0.52  0.14  0.07]\n",
            " [ 0.89  0.06 -0.25  0.38 -0.06]\n",
            " [ 0.08  0.11 -0.08 -0.11  0.98]]\n"
          ]
        }
      ]
    },
    {
      "cell_type": "code",
      "metadata": {
        "colab": {
          "base_uri": "https://localhost:8080/"
        },
        "id": "rwzWXbW0kWh-",
        "outputId": "14de1bde-b04b-4645-8778-5dc8207c0562"
      },
      "source": [
        "print(np.dot(U.T, U))"
      ],
      "execution_count": null,
      "outputs": [
        {
          "output_type": "stream",
          "name": "stdout",
          "text": [
            "[[ 1.  0. -0. -0. -0.]\n",
            " [ 0.  1.  0.  0.  0.]\n",
            " [-0.  0.  1. -0. -0.]\n",
            " [-0.  0. -0.  1. -0.]\n",
            " [-0.  0. -0. -0.  1.]]\n"
          ]
        }
      ]
    },
    {
      "cell_type": "code",
      "metadata": {
        "colab": {
          "base_uri": "https://localhost:8080/"
        },
        "id": "jKMcJmYNka98",
        "outputId": "c5b1cb12-fdd5-46ea-c218-fee6b3c7a81b"
      },
      "source": [
        "print(f'Матрица V:\\n{V}')"
      ],
      "execution_count": null,
      "outputs": [
        {
          "output_type": "stream",
          "name": "stdout",
          "text": [
            "Матрица V:\n",
            "[[ 0.07 -0.37 -0.93]\n",
            " [ 0.72  0.67 -0.21]\n",
            " [ 0.69 -0.65  0.31]]\n"
          ]
        }
      ]
    },
    {
      "cell_type": "code",
      "metadata": {
        "colab": {
          "base_uri": "https://localhost:8080/"
        },
        "id": "KGA4YEGUkz0j",
        "outputId": "0c5a44d4-4c34-4c80-ad41-309db441bd62"
      },
      "source": [
        "print(np.dot(V.T, V))"
      ],
      "execution_count": null,
      "outputs": [
        {
          "output_type": "stream",
          "name": "stdout",
          "text": [
            "[[ 1.  0. -0.]\n",
            " [ 0.  1. -0.]\n",
            " [-0. -0.  1.]]\n"
          ]
        }
      ]
    },
    {
      "cell_type": "code",
      "metadata": {
        "colab": {
          "base_uri": "https://localhost:8080/"
        },
        "id": "mn5TaMr2lAfv",
        "outputId": "a43173cd-34d5-4acf-9b3f-707271bd7751"
      },
      "source": [
        "print(np.dot(np.dot(U, D), V.T))"
      ],
      "execution_count": null,
      "outputs": [
        {
          "output_type": "stream",
          "name": "stdout",
          "text": [
            "[[ 1.  2.  0.]\n",
            " [ 0. -0.  5.]\n",
            " [ 3. -4.  2.]\n",
            " [ 1.  6.  5.]\n",
            " [-0.  1. -0.]]\n"
          ]
        }
      ]
    },
    {
      "cell_type": "markdown",
      "metadata": {
        "id": "_TlPC3eF_Dix"
      },
      "source": [
        "# 2. Для матрицы из предыдущего задания найти:\n",
        "\n",
        "а) евклидову норму;\n",
        "    \n",
        "б) норму Фробениуса."
      ]
    },
    {
      "cell_type": "code",
      "metadata": {
        "colab": {
          "base_uri": "https://localhost:8080/"
        },
        "id": "kMup1m-x7MAv",
        "outputId": "49733e33-ce66-403e-84df-a3447863a6f1"
      },
      "source": [
        "print(f'Евклидова норма A:\\n{norm(A, ord=2)}')"
      ],
      "execution_count": null,
      "outputs": [
        {
          "output_type": "stream",
          "name": "stdout",
          "text": [
            "Евклидова норма A:\n",
            "8.824868854820444\n"
          ]
        }
      ]
    },
    {
      "cell_type": "code",
      "metadata": {
        "colab": {
          "base_uri": "https://localhost:8080/"
        },
        "id": "0-h4-hwe90kJ",
        "outputId": "04a0b2e0-bed3-48b7-e78e-7b0494de9150"
      },
      "source": [
        "print(f'Евклидова норма A:\\n{D[0, 0]}')"
      ],
      "execution_count": null,
      "outputs": [
        {
          "output_type": "stream",
          "name": "stdout",
          "text": [
            "Евклидова норма A:\n",
            "8.824868854820442\n"
          ]
        }
      ]
    },
    {
      "cell_type": "code",
      "metadata": {
        "colab": {
          "base_uri": "https://localhost:8080/"
        },
        "id": "urKYlvb6npTA",
        "outputId": "11e76928-e0cf-4928-a549-e9756cf74f7b"
      },
      "source": [
        "print(f'Норма Фробениуса D:\\n{np.linalg.norm(D)}')"
      ],
      "execution_count": null,
      "outputs": [
        {
          "output_type": "stream",
          "name": "stdout",
          "text": [
            "Норма Фробениуса D:\n",
            "11.04536101718726\n"
          ]
        }
      ]
    },
    {
      "cell_type": "code",
      "metadata": {
        "colab": {
          "base_uri": "https://localhost:8080/"
        },
        "id": "X1ZWxYQgn7bj",
        "outputId": "f130e229-67d3-4d8a-cbc4-c989c506bb31"
      },
      "source": [
        "print(f'Норма Фробениуса A:\\n{np.linalg.norm(A)}')"
      ],
      "execution_count": null,
      "outputs": [
        {
          "output_type": "stream",
          "name": "stdout",
          "text": [
            "Норма Фробениуса A:\n",
            "11.045361017187261\n"
          ]
        }
      ]
    },
    {
      "cell_type": "code",
      "metadata": {
        "colab": {
          "base_uri": "https://localhost:8080/"
        },
        "id": "nIPVzbgvz63k",
        "outputId": "9ac581ce-21a9-4610-dcb7-21f6eee45f33"
      },
      "source": [
        "pow_mas = (D[:])**2\n",
        "print(f'Норма Фробениуса D:\\n{np.sqrt(pow_mas.sum())}')"
      ],
      "execution_count": null,
      "outputs": [
        {
          "output_type": "stream",
          "name": "stdout",
          "text": [
            "Норма Фробениуса D:\n",
            "11.045361017187261\n"
          ]
        }
      ]
    },
    {
      "cell_type": "code",
      "metadata": {
        "colab": {
          "base_uri": "https://localhost:8080/"
        },
        "id": "Zt1AWMwp-xPW",
        "outputId": "c4b5deef-c76d-43da-b1d7-447fe60e6fff"
      },
      "source": [
        "pow_mas = (A[:])**2\n",
        "print(f'Норма Фробениуса A:\\n{np.sqrt(pow_mas.sum())}')"
      ],
      "execution_count": null,
      "outputs": [
        {
          "output_type": "stream",
          "name": "stdout",
          "text": [
            "Норма Фробениуса A:\n",
            "11.045361017187261\n"
          ]
        }
      ]
    },
    {
      "cell_type": "code",
      "metadata": {
        "id": "KTvfHZzsqgUb"
      },
      "source": [
        "highCountX = 2\n",
        "lowValY = 3.\n",
        "D_ = np.asarray(D)\n",
        "low_values_flags = D_ < lowValY  \n",
        "D_[low_values_flags] = 0"
      ],
      "execution_count": null,
      "outputs": []
    },
    {
      "cell_type": "code",
      "metadata": {
        "colab": {
          "base_uri": "https://localhost:8080/"
        },
        "id": "ZYY7Fpscr8-K",
        "outputId": "86e32e98-6120-4856-ad38-4b91c4309ccc"
      },
      "source": [
        "print(f'Матрица D_:\\n{D_}')"
      ],
      "execution_count": null,
      "outputs": [
        {
          "output_type": "stream",
          "name": "stdout",
          "text": [
            "Матрица D_:\n",
            "[[8.82 0.   0.  ]\n",
            " [0.   6.14 0.  ]\n",
            " [0.   0.   0.  ]\n",
            " [0.   0.   0.  ]\n",
            " [0.   0.   0.  ]]\n"
          ]
        }
      ]
    },
    {
      "cell_type": "code",
      "metadata": {
        "colab": {
          "base_uri": "https://localhost:8080/"
        },
        "id": "jSMi6VZAsNtb",
        "outputId": "28ac15c5-447a-4874-de6d-6f91d76ee850"
      },
      "source": [
        "print(f'Матрица A_:\\n{np.dot(np.dot(U, D_), V.T)}')"
      ],
      "execution_count": null,
      "outputs": [
        {
          "output_type": "stream",
          "name": "stdout",
          "text": [
            "Матрица A_:\n",
            "[[-0.25  1.72  0.42]\n",
            " [ 1.44  0.32  4.52]\n",
            " [ 1.77 -4.28  2.41]\n",
            " [ 0.42  5.87  5.19]\n",
            " [-0.19  0.96  0.06]]\n"
          ]
        }
      ]
    },
    {
      "cell_type": "code",
      "metadata": {
        "colab": {
          "base_uri": "https://localhost:8080/"
        },
        "id": "Agj7ZBE1BHbK",
        "outputId": "429c1c6e-89e5-4399-a809-b366d1023765"
      },
      "source": [
        "print(f'Норма Фробениуса A_:\\n{np.linalg.norm(np.dot(np.dot(U, D_), V.T))}')"
      ],
      "execution_count": null,
      "outputs": [
        {
          "output_type": "stream",
          "name": "stdout",
          "text": [
            "Норма Фробениуса A_:\n",
            "10.751062891895108\n"
          ]
        }
      ]
    },
    {
      "cell_type": "code",
      "metadata": {
        "colab": {
          "base_uri": "https://localhost:8080/"
        },
        "id": "MJdtf31BBWXc",
        "outputId": "43b73a59-66be-4114-8629-621e423da214"
      },
      "source": [
        "print(f'Норма Фробениуса D_:\\n{np.linalg.norm(D_)}')"
      ],
      "execution_count": null,
      "outputs": [
        {
          "output_type": "stream",
          "name": "stdout",
          "text": [
            "Норма Фробениуса D_:\n",
            "10.751062891895108\n"
          ]
        }
      ]
    }
  ]
}