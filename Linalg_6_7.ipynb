{
  "nbformat": 4,
  "nbformat_minor": 0,
  "metadata": {
    "colab": {
      "name": "Linalg_6_7.ipynb",
      "provenance": [],
      "collapsed_sections": [],
      "mount_file_id": "1ynpjTK8GudWNPoEN9cEhTZ6PUHaCYVqX",
      "authorship_tag": "ABX9TyN/4BvNBwhVJzqxFZIHrmBs",
      "include_colab_link": true
    },
    "kernelspec": {
      "name": "python3",
      "display_name": "Python 3"
    },
    "language_info": {
      "name": "python"
    }
  },
  "cells": [
    {
      "cell_type": "markdown",
      "metadata": {
        "id": "view-in-github",
        "colab_type": "text"
      },
      "source": [
        "<a href=\"https://colab.research.google.com/github/Zhuchkovdv/Python/blob/main/Linalg_6_7.ipynb\" target=\"_parent\"><img src=\"https://colab.research.google.com/assets/colab-badge.svg\" alt=\"Open In Colab\"/></a>"
      ]
    },
    {
      "cell_type": "markdown",
      "metadata": {
        "id": "jUAENax9rsce"
      },
      "source": [
        "Жучков Дмитрий DS_med_1530"
      ]
    },
    {
      "cell_type": "code",
      "metadata": {
        "id": "FSy2z31tpGR_"
      },
      "source": [
        "import math\n",
        "import numpy as np\n",
        "from numpy.linalg import norm\n",
        "import scipy.linalg"
      ],
      "execution_count": null,
      "outputs": []
    },
    {
      "cell_type": "markdown",
      "metadata": {
        "id": "hNXABRxT5PRX"
      },
      "source": [
        "# __6.2.__ Проверить на совместность и выяснить, сколько решений будет иметь система линейных уравнений:"
      ]
    },
    {
      "cell_type": "markdown",
      "metadata": {
        "id": "43KQyDDd5Xpj"
      },
      "source": [
        "   а) $\\begin{cases}\n",
        "3x_{1}-x_{2}+x_{3}=4, \\\\\n",
        "2x_{1}-5x_{2}-3x_{3}=-17, \\\\\n",
        "x_{1}+x_{2}-x_{3}=0;\n",
        "\\end{cases}$"
      ]
    },
    {
      "cell_type": "code",
      "metadata": {
        "colab": {
          "base_uri": "https://localhost:8080/"
        },
        "id": "fS2HHJ0Kngf3",
        "outputId": "8a98c0fb-bebf-41fc-8c0b-f6f465044498"
      },
      "source": [
        "x = [3, -1, 1]\n",
        "y = [2, -5, -3]\n",
        "z = [1, 1, -1]\n",
        "b = [4, -17, 0]\n",
        "A = np.array([x, y, z])\n",
        "A_= np.column_stack([A, b])\n",
        "r = np.linalg.matrix_rank(A)\n",
        "r_ = np.linalg.matrix_rank(A_)\n",
        "print(f'Число переменных:\\n{len(x)}')\n",
        "print(f'Число уравнений:\\n{len(b)}')\n",
        "print(f'Матрица коэффициентов:\\n{A}')\n",
        "print(f'Ранг матрицы коэффициентов:\\n{r}')\n",
        "print(f'Расширенная матрица:\\n{A_}')\n",
        "print(f'Ранг расширенной матрицы:\\n{r_}')\n",
        "print()\n",
        "if r < r_:\n",
        "    print(f'Система несовместна')\n",
        "if r == r_:\n",
        "    if len(b) == len(x):\n",
        "        print(f'Система совместна, определенна и имеет единственное решение')\n",
        "    else:\n",
        "        print(f'Система совместна, но неопределенна и имеет бесконечное множество решений')"
      ],
      "execution_count": null,
      "outputs": [
        {
          "output_type": "stream",
          "name": "stdout",
          "text": [
            "Число переменных:\n",
            "3\n",
            "Число уравнений:\n",
            "3\n",
            "Матрица коэффициентов:\n",
            "[[ 3 -1  1]\n",
            " [ 2 -5 -3]\n",
            " [ 1  1 -1]]\n",
            "Ранг матрицы коэффициентов:\n",
            "3\n",
            "Расширенная матрица:\n",
            "[[  3  -1   1   4]\n",
            " [  2  -5  -3 -17]\n",
            " [  1   1  -1   0]]\n",
            "Ранг расширенной матрицы:\n",
            "3\n",
            "\n",
            "Система совместна, определенна и имеет единственное решение\n"
          ]
        }
      ]
    },
    {
      "cell_type": "markdown",
      "metadata": {
        "id": "wsWRTT-m57gy"
      },
      "source": [
        "б) $\\begin{cases}\n",
        "2x_{1}-4x_{2}+6x_{3}=1, \\\\\n",
        "x_{1}-2x_{2}+3x_{3}=-2, \\\\\n",
        "3x_{1}-6x_{2}+9x_{3}=5;\n",
        "\\end{cases}$"
      ]
    },
    {
      "cell_type": "code",
      "metadata": {
        "colab": {
          "base_uri": "https://localhost:8080/"
        },
        "id": "pF0S_aoJ6Dlt",
        "outputId": "d03bf021-1da8-489b-e92f-f2cdde05952a"
      },
      "source": [
        "x = [2, -4, 6]\n",
        "y = [1, -2, 3]\n",
        "z = [3, -6, 9]\n",
        "b = [1, -2, 5]\n",
        "A = np.array([x, y, z])\n",
        "A_= np.column_stack([A, b])\n",
        "r = np.linalg.matrix_rank(A)\n",
        "r_ = np.linalg.matrix_rank(A_)\n",
        "print(f'Число переменных:\\n{len(x)}')\n",
        "print(f'Число уравнений:\\n{len(b)}')\n",
        "print(f'Матрица коэффициентов:\\n{A}')\n",
        "print(f'Ранг матрицы коэффициентов:\\n{r}')\n",
        "print(f'Расширенная матрица:\\n{A_}')\n",
        "print(f'Ранг расширенной матрицы:\\n{r_}')\n",
        "print()\n",
        "if r < r_:\n",
        "    print(f'Система несовместна')\n",
        "if r == r_:\n",
        "    if len(b) == len(x):\n",
        "        print(f'Система совместна, определенна и имеет единственное решение')\n",
        "    else:\n",
        "        print(f'Система совместна, но неопределенна и имеет бесконечное множество решений')"
      ],
      "execution_count": null,
      "outputs": [
        {
          "output_type": "stream",
          "name": "stdout",
          "text": [
            "Число переменных:\n",
            "3\n",
            "Число уравнений:\n",
            "3\n",
            "Матрица коэффициентов:\n",
            "[[ 2 -4  6]\n",
            " [ 1 -2  3]\n",
            " [ 3 -6  9]]\n",
            "Ранг матрицы коэффициентов:\n",
            "1\n",
            "Расширенная матрица:\n",
            "[[ 2 -4  6  1]\n",
            " [ 1 -2  3 -2]\n",
            " [ 3 -6  9  5]]\n",
            "Ранг расширенной матрицы:\n",
            "2\n",
            "\n",
            "Система несовместна\n"
          ]
        }
      ]
    },
    {
      "cell_type": "markdown",
      "metadata": {
        "id": "gfEJb3zk6mXa"
      },
      "source": [
        "в) $\\begin{cases}\n",
        "x_{1}+2x_{2}+5x_{3}=4, \\\\\n",
        "3x_{1}+x_{2}-8x_{3}=-2. \n",
        "\\end{cases}$"
      ]
    },
    {
      "cell_type": "code",
      "metadata": {
        "colab": {
          "base_uri": "https://localhost:8080/"
        },
        "id": "ng-v2MaW6rlC",
        "outputId": "affb7fa8-a2d7-4285-dd50-0e802f2af629"
      },
      "source": [
        "x = [1, 2, 5]\n",
        "y = [3, 1, -8]\n",
        "\n",
        "b = [4, -2]\n",
        "A = np.array([x, y])\n",
        "A_= np.column_stack([A, b])\n",
        "r = np.linalg.matrix_rank(A)\n",
        "r_ = np.linalg.matrix_rank(A_)\n",
        "print(f'Число переменных:\\n{len(x)}')\n",
        "print(f'Число уравнений:\\n{len(b)}')\n",
        "print(f'Матрица коэффициентов:\\n{A}')\n",
        "print(f'Ранг матрицы коэффициентов:\\n{r}')\n",
        "print(f'Расширенная матрица:\\n{A_}')\n",
        "print(f'Ранг расширенной матрицы:\\n{r_}')\n",
        "print()\n",
        "if r < r_:\n",
        "    print(f'Система несовместна')\n",
        "if r == r_:\n",
        "    if len(b) == len(x):\n",
        "        print(f'Система совместна, определенна и имеет единственное решение')\n",
        "    else:\n",
        "        print(f'Система совместна, но неопределенна и имеет бесконечное множество решений')"
      ],
      "execution_count": null,
      "outputs": [
        {
          "output_type": "stream",
          "name": "stdout",
          "text": [
            "Число переменных:\n",
            "3\n",
            "Число уравнений:\n",
            "2\n",
            "Матрица коэффициентов:\n",
            "[[ 1  2  5]\n",
            " [ 3  1 -8]]\n",
            "Ранг матрицы коэффициентов:\n",
            "2\n",
            "Расширенная матрица:\n",
            "[[ 1  2  5  4]\n",
            " [ 3  1 -8 -2]]\n",
            "Ранг расширенной матрицы:\n",
            "2\n",
            "\n",
            "Система совместна, но неопределенна и имеет бесконечное множество решений\n"
          ]
        }
      ]
    },
    {
      "cell_type": "markdown",
      "metadata": {
        "id": "_TlPC3eF_Dix"
      },
      "source": [
        "#__6.3.__ Проверить на совместность и выяснить, сколько решений будет иметь система линейных уравнений, заданная расширенной матрицей\n",
        "\n",
        "$$\\tilde{A}=\\begin{pmatrix}\n",
        "\\left.\\begin{matrix}\n",
        "1 & 3 & -2 & 4\\\\ \n",
        "0 & 5 & 0 & 1\\\\ \n",
        "0 & 0 & 3 & 0\\\\ \n",
        "0 & 0 & 0 & 2\n",
        "\\end{matrix}\\right|\n",
        "\\begin{matrix}\n",
        "3\\\\ \n",
        "2\\\\\n",
        "4\\\\\n",
        "1\n",
        "\\end{matrix}\n",
        "\\end{pmatrix}.$$"
      ]
    },
    {
      "cell_type": "code",
      "metadata": {
        "colab": {
          "base_uri": "https://localhost:8080/"
        },
        "id": "cYcuyTmI_QFM",
        "outputId": "753256bc-5916-4aab-8a16-3d4088108822"
      },
      "source": [
        "x = [1, 3, -2, 4]\n",
        "y = [0, 5, 0, 1]\n",
        "z = [0, 0, 3, 0]\n",
        "w = [0, 0, 0, 2]\n",
        "\n",
        "b = [3, 2, 4, 1]\n",
        "A = np.array([x, y, z, w])\n",
        "A_= np.column_stack([A, b])\n",
        "r = np.linalg.matrix_rank(A)\n",
        "r_ = np.linalg.matrix_rank(A_)\n",
        "print(f'Число переменных:\\n{len(x)}')\n",
        "print(f'Число уравнений:\\n{len(b)}')\n",
        "print(f'Матрица коэффициентов:\\n{A}')\n",
        "print(f'Ранг матрицы коэффициентов:\\n{r}')\n",
        "print(f'Расширенная матрица:\\n{A_}')\n",
        "print(f'Ранг расширенной матрицы:\\n{r_}')\n",
        "print()\n",
        "if r < r_:\n",
        "    print(f'Система несовместна')\n",
        "if r == r_:\n",
        "    if r == len(x):\n",
        "        print(f'Система совместна, определенна и имеет единственное решение')\n",
        "    else:\n",
        "        print(f'Система совместна, но неопределенна и имеет бесконечное множество решений')"
      ],
      "execution_count": null,
      "outputs": [
        {
          "output_type": "stream",
          "name": "stdout",
          "text": [
            "Число переменных:\n",
            "4\n",
            "Число уравнений:\n",
            "4\n",
            "Матрица коэффициентов:\n",
            "[[ 1  3 -2  4]\n",
            " [ 0  5  0  1]\n",
            " [ 0  0  3  0]\n",
            " [ 0  0  0  2]]\n",
            "Ранг матрицы коэффициентов:\n",
            "4\n",
            "Расширенная матрица:\n",
            "[[ 1  3 -2  4  3]\n",
            " [ 0  5  0  1  2]\n",
            " [ 0  0  3  0  4]\n",
            " [ 0  0  0  2  1]]\n",
            "Ранг расширенной матрицы:\n",
            "4\n",
            "\n",
            "Система совместна, определенна и имеет единственное решение\n"
          ]
        }
      ]
    },
    {
      "cell_type": "markdown",
      "metadata": {
        "id": "LMxNdSbOIIu_"
      },
      "source": [
        "#__7.1.__ Решить систему уравнений методом Крамера:\n",
        "\n",
        "   а) $\\begin{cases}\n",
        "x_{1}-2x_{2}=1 \\\\\n",
        "3x_{1}-4x_{2}=7\n",
        "\\end{cases}$   \n",
        " "
      ]
    },
    {
      "cell_type": "code",
      "metadata": {
        "colab": {
          "base_uri": "https://localhost:8080/"
        },
        "id": "P6Uyao3sIRg8",
        "outputId": "3afb76ee-6e4e-4f3a-d629-250c13646e41"
      },
      "source": [
        "x = [1, -2]\n",
        "y = [3, -4]\n",
        "b = [1, 7]\n",
        "A = np.array([x, y])\n",
        "A_ = np.column_stack([A, b])\n",
        "D = np.linalg.det(A)\n",
        "D1 = np.linalg.det(A_[:, [2, 1]])\n",
        "D2 = np.linalg.det(A_[:, [0, 2]])\n",
        "print(f'Матрица коэффициентов:\\n{A}')\n",
        "print(f'Расширенная матрица:\\n{A_}')\n",
        "print(D, D1, D2)\n",
        "print()\n",
        "print(f'x1 = {D1/D :.0f}, x2 = {D2/D :.0f}')"
      ],
      "execution_count": null,
      "outputs": [
        {
          "output_type": "stream",
          "name": "stdout",
          "text": [
            "Матрица коэффициентов:\n",
            "[[ 1 -2]\n",
            " [ 3 -4]]\n",
            "Расширенная матрица:\n",
            "[[ 1 -2  1]\n",
            " [ 3 -4  7]]\n",
            "2.0000000000000004 9.999999999999998 3.999999999999999\n",
            "\n",
            "x1 = 5, x2 = 2\n"
          ]
        }
      ]
    },
    {
      "cell_type": "markdown",
      "metadata": {
        "id": "2wh9PMLSTcJg"
      },
      "source": [
        "  б) $\\begin{cases}\n",
        "2x_{1}-x_{2}+5x_{3}=10 \\\\\n",
        "x_{1}+x_{2}-3x_{3}=-2 \\\\\n",
        "2x_{1}+4x_{2}+x_{3}=1\n",
        "\\end{cases}$"
      ]
    },
    {
      "cell_type": "code",
      "metadata": {
        "colab": {
          "base_uri": "https://localhost:8080/"
        },
        "id": "q8XZk1DSTtJY",
        "outputId": "5bd87960-90d7-4e04-cf07-ba996313d8a6"
      },
      "source": [
        "x = [2, -1, 5]\n",
        "y = [1, 1, -3]\n",
        "z = [2, 4, 1]\n",
        "b = [10, -2, 1]\n",
        "A = np.array([x, y, z])\n",
        "D = np.linalg.det(A)\n",
        "A_ = np.column_stack([A, b])\n",
        "D1 = np.linalg.det(A_[:, [3, 1, 2]])\n",
        "D2 = np.linalg.det(A_[:, [0,3, 2]])\n",
        "D3 = np.linalg.det(A_[:, [0, 1, 3]])\n",
        "print(f'Матрица коэффициентов:\\n{A}')\n",
        "print(f'Расширенная матрица:\\n{A_}')\n",
        "print(D, D1, D2, D3)\n",
        "print()\n",
        "print(f'x1 = {D1/D :.0f}, x2 = {D2/D :.0f}, x3 = {D3/D :.0f}')"
      ],
      "execution_count": null,
      "outputs": [
        {
          "output_type": "stream",
          "name": "stdout",
          "text": [
            "Матрица коэффициентов:\n",
            "[[ 2 -1  5]\n",
            " [ 1  1 -3]\n",
            " [ 2  4  1]]\n",
            "Расширенная матрица:\n",
            "[[ 2 -1  5 10]\n",
            " [ 1  1 -3 -2]\n",
            " [ 2  4  1  1]]\n",
            "42.99999999999998 86.00000000000004 -43.000000000000014 42.99999999999998\n",
            "\n",
            "x1 = 2, x2 = -1, x3 = 1\n"
          ]
        }
      ]
    },
    {
      "cell_type": "markdown",
      "metadata": {
        "id": "b3qxC5ZTXsF4"
      },
      "source": [
        "# Не совсем задание __7.5.*__, но Крамер тоже работает))\n",
        "\n",
        "$$\\begin{cases}\n",
        "2x_{1}+x_{2}+3x_{3}=1 \\\\\n",
        "11x_{1}+7x_{2}+5x_{3}=-6 \\\\\n",
        "9x_{1}+8x_{2}+4x_{3}=-5\n",
        "\\end{cases}$$\n"
      ]
    },
    {
      "cell_type": "code",
      "metadata": {
        "colab": {
          "base_uri": "https://localhost:8080/"
        },
        "id": "q2Bvk35JXYt_",
        "outputId": "0be968b8-2d3b-44ba-bc08-2b47ed9df560"
      },
      "source": [
        "x = [2, 1, 3]\n",
        "y = [11, 7, 5]\n",
        "z = [9, 8, 4]\n",
        "b = [1, -6, -5]\n",
        "A = np.array([x, y, z])\n",
        "D = np.linalg.det(A)\n",
        "A_ = np.column_stack([A, b])\n",
        "D1 = np.linalg.det(A_[:, [3, 1, 2]])\n",
        "D2 = np.linalg.det(A_[:, [0,3, 2]])\n",
        "D3 = np.linalg.det(A_[:, [0, 1, 3]])\n",
        "print(f'Матрица коэффициентов:\\n{A}')\n",
        "print(f'Расширенная матрица:\\n{A_}')\n",
        "A_= np.column_stack([A, b])\n",
        "r = np.linalg.matrix_rank(A)\n",
        "r_ = np.linalg.matrix_rank(A_)\n",
        "print(f'Число переменных:\\n{len(x)}')\n",
        "print(f'Число уравнений:\\n{len(b)}')\n",
        "print(f'Ранг матрицы коэффициентов:\\n{r}')\n",
        "print(f'Ранг расширенной матрицы:\\n{r_}')\n",
        "print()\n",
        "if r < r_:\n",
        "    print(f'Система несовместна')\n",
        "if r == r_:\n",
        "    if len(b) == len(x):\n",
        "        print(f'Система совместна, определенна и имеет единственное решение')\n",
        "    else:\n",
        "        print(f'Система совместна, но неопределенна и имеет бесконечное множество решений')\n",
        "print()\n",
        "print(D, D1, D2, D3)\n",
        "print()\n",
        "print(f'x1 = {D1/D :.0f}, x2 = {D2/D :.0f}, x3 = {D3/D :.0f}')"
      ],
      "execution_count": null,
      "outputs": [
        {
          "output_type": "stream",
          "name": "stdout",
          "text": [
            "Матрица коэффициентов:\n",
            "[[ 2  1  3]\n",
            " [11  7  5]\n",
            " [ 9  8  4]]\n",
            "Расширенная матрица:\n",
            "[[ 2  1  3  1]\n",
            " [11  7  5 -6]\n",
            " [ 9  8  4 -5]]\n",
            "Число переменных:\n",
            "3\n",
            "Число уравнений:\n",
            "3\n",
            "Ранг матрицы коэффициентов:\n",
            "3\n",
            "Ранг расширенной матрицы:\n",
            "3\n",
            "\n",
            "Система совместна, определенна и имеет единственное решение\n",
            "\n",
            "52.00000000000001 -51.999999999999986 0.0 52.00000000000001\n",
            "\n",
            "x1 = -1, x2 = 0, x3 = 1\n"
          ]
        }
      ]
    },
    {
      "cell_type": "markdown",
      "metadata": {
        "id": "y1WNVjUbYE3Z"
      },
      "source": [
        "$$\\begin{cases}\n",
        "81x_{1}-45x_{2}+45x_{3}=531 \\\\\n",
        "-45x_{1}+50x_{2}-15x_{3}=-460 \\\\\n",
        "45x_{1}-15x_{2}+38x_{3}=193\n",
        "\\end{cases}$$"
      ]
    },
    {
      "cell_type": "code",
      "metadata": {
        "colab": {
          "base_uri": "https://localhost:8080/"
        },
        "id": "err83-O3YO_K",
        "outputId": "a2ee2a7f-c0c6-4408-a022-455d52bdaac1"
      },
      "source": [
        "x = [81, -45, 45]\n",
        "y = [-45, 50, -15]\n",
        "z = [45, -15, 38]\n",
        "b = [531, -460, 193]\n",
        "A = np.array([x, y, z])\n",
        "D = np.linalg.det(A)\n",
        "A_ = np.column_stack([A, b])\n",
        "D1 = np.linalg.det(A_[:, [3, 1, 2]])\n",
        "D2 = np.linalg.det(A_[:, [0,3, 2]])\n",
        "D3 = np.linalg.det(A_[:, [0, 1, 3]])\n",
        "print(f'Матрица коэффициентов:\\n{A}')\n",
        "print(f'Расширенная матрица:\\n{A_}')\n",
        "A_= np.column_stack([A, b])\n",
        "r = np.linalg.matrix_rank(A)\n",
        "r_ = np.linalg.matrix_rank(A_)\n",
        "print(f'Число переменных:\\n{len(x)}')\n",
        "print(f'Число уравнений:\\n{len(b)}')\n",
        "print(f'Ранг матрицы коэффициентов:\\n{r}')\n",
        "print(f'Ранг расширенной матрицы:\\n{r_}')\n",
        "print()\n",
        "if r < r_:\n",
        "    print(f'Система несовместна')\n",
        "if r == r_:\n",
        "    if len(b) == len(x):\n",
        "        print(f'Система совместна, определенна и имеет единственное решение')\n",
        "    else:\n",
        "        print(f'Система совместна, но неопределенна и имеет бесконечное множество решений')\n",
        "print()\n",
        "print(D, D1, D2, D3)\n",
        "print()\n",
        "print(f'x1 = {D1/D :.0f}, x2 = {D2/D :.0f}, x3 = {D3/D :.0f}')"
      ],
      "execution_count": null,
      "outputs": [
        {
          "output_type": "stream",
          "name": "stdout",
          "text": [
            "Матрица коэффициентов:\n",
            "[[ 81 -45  45]\n",
            " [-45  50 -15]\n",
            " [ 45 -15  38]]\n",
            "Расширенная матрица:\n",
            "[[  81  -45   45  531]\n",
            " [ -45   50  -15 -460]\n",
            " [  45  -15   38  193]]\n",
            "Число переменных:\n",
            "3\n",
            "Число уравнений:\n",
            "3\n",
            "Ранг матрицы коэффициентов:\n",
            "3\n",
            "Ранг расширенной матрицы:\n",
            "3\n",
            "\n",
            "Система совместна, определенна и имеет единственное решение\n",
            "\n",
            "18225.000000000007 109350.00000000017 -91124.99999999996 -72899.99999999991\n",
            "\n",
            "x1 = 6, x2 = -5, x3 = -4\n"
          ]
        }
      ]
    }
  ]
}